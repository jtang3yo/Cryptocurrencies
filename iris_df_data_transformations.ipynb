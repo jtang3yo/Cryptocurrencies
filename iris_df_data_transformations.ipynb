{
 "cells": [
  {
   "cell_type": "code",
   "execution_count": null,
   "id": "7fb64c08",
   "metadata": {},
   "outputs": [],
   "source": [
    "import pandas as pd \n",
    "file_path = \"Resources/iris.csv\"\n",
    "iris_df = pd.read_csv(file_path)\n",
    "iris_df.head(5)"
   ]
  },
  {
   "cell_type": "code",
   "execution_count": null,
   "id": "4b00a79c",
   "metadata": {},
   "outputs": [],
   "source": [
    "#Unsupervised learning only deals with numerical data, so this column can be dropped.\n",
    "new_iris_df = iris_df.drop(['class'], axis=1)\n",
    "new_iris_df.head(5)"
   ]
  },
  {
   "cell_type": "code",
   "execution_count": null,
   "id": "18d4497d",
   "metadata": {},
   "outputs": [],
   "source": [
    "reorder_iris_df = new_iris_df[['sepal_length', 'petal_length', 'sepal_width', 'petal_width']]\n",
    "reorder_iris_df.head()"
   ]
  },
  {
   "cell_type": "code",
   "execution_count": null,
   "id": "b89c0bb1",
   "metadata": {},
   "outputs": [],
   "source": [
    "output_file_path = \"Resources/new_iris_data.csv\"\n",
    "reorder_iris_df.to_csv(output_file_path, index=False)"
   ]
  },
  {
   "cell_type": "code",
   "execution_count": null,
   "id": "c31a616f",
   "metadata": {},
   "outputs": [],
   "source": [
    "#data loading \n",
    "shopping_file = \"Resources/shopping_data.csv\"\n",
    "shopping_df = pd.read_csv(shopping_file)\n",
    "shopping_df.head(5)"
   ]
  },
  {
   "cell_type": "code",
   "execution_count": null,
   "id": "01214f3d",
   "metadata": {},
   "outputs": [],
   "source": [
    "#columns \n",
    "shopping_df.columns "
   ]
  },
  {
   "cell_type": "code",
   "execution_count": null,
   "id": "0c986eee",
   "metadata": {},
   "outputs": [],
   "source": [
    "#check the datatype \n",
    "shopping_df.dtypes"
   ]
  },
  {
   "cell_type": "code",
   "execution_count": null,
   "id": "c36f345a",
   "metadata": {},
   "outputs": [],
   "source": [
    "#find null values \n",
    "for column in shopping_df.columns: \n",
    "    print(f\"Column{column} has {shopping_df[column].isnull().sum()}\\\n",
    "null valuess\")"
   ]
  },
  {
   "cell_type": "code",
   "execution_count": null,
   "id": "47a681d0",
   "metadata": {},
   "outputs": [],
   "source": [
    "#dropping null using dropna()\n",
    "shopping_df = shopping_df.dropna()\n",
    "shopping_df.head(5)\n"
   ]
  },
  {
   "cell_type": "code",
   "execution_count": null,
   "id": "60329202",
   "metadata": {},
   "outputs": [],
   "source": [
    "#find duplicate values \n",
    "print(f'Duplicate entries: {shopping_df.duplicated().sum()}')"
   ]
  },
  {
   "cell_type": "code",
   "execution_count": null,
   "id": "6c265c4d",
   "metadata": {},
   "outputs": [],
   "source": [
    "#customer ID would not render much information as data point - remove \n",
    "shopping_df.drop(columns =['CustomerID'], inplace=True)\n",
    "shopping_df.head()"
   ]
  },
  {
   "cell_type": "code",
   "execution_count": null,
   "id": "8d5d0c17",
   "metadata": {},
   "outputs": [],
   "source": [
    "#To make sure we can use our string data, we'll transform our strings of Yes and No from the Card Member column to 1 and 0, respectively, \n",
    "#by creating a function that will convert Yes to a 1 and anything else to 0.\n",
    "def change_string(member): \n",
    "    if member == \"Yes\": \n",
    "        return 1\n",
    "    else: \n",
    "        return 0\n",
    "shopping_df[\"Card Member\"]=shopping_df[\"Card Member\"].apply(change_string)\n",
    "shopping_df.head()"
   ]
  },
  {
   "cell_type": "code",
   "execution_count": null,
   "id": "8a5fdc53",
   "metadata": {},
   "outputs": [],
   "source": [
    "#We can adjust this format by dividing by 1,000 to rescale those data points - transform annual income \n",
    "shopping_df['Annual Income'] = shopping_df['Annual Income'] /1000\n",
    "shopping_df.head()"
   ]
  },
  {
   "cell_type": "code",
   "execution_count": null,
   "id": "8b8b20f8",
   "metadata": {},
   "outputs": [],
   "source": [
    "#save the cleaned data \n",
    "output_file_path = \"Resources/shopping_data_cleaned.csv\"\n",
    "shopping_df.to_csv(output_file_path, index = False)"
   ]
  },
  {
   "cell_type": "markdown",
   "id": "7314adf6",
   "metadata": {},
   "source": [
    "K-mean Algorithm \n"
   ]
  },
  {
   "cell_type": "code",
   "execution_count": null,
   "id": "8137cd9b",
   "metadata": {},
   "outputs": [],
   "source": []
  },
  {
   "cell_type": "code",
   "execution_count": null,
   "id": "5c22014d",
   "metadata": {},
   "outputs": [],
   "source": []
  }
 ],
 "metadata": {
  "kernelspec": {
   "display_name": "mlenv",
   "language": "python",
   "name": "mlenv"
  },
  "language_info": {
   "codemirror_mode": {
    "name": "ipython",
    "version": 3
   },
   "file_extension": ".py",
   "mimetype": "text/x-python",
   "name": "python",
   "nbconvert_exporter": "python",
   "pygments_lexer": "ipython3",
   "version": "3.7.10"
  }
 },
 "nbformat": 4,
 "nbformat_minor": 5
}
